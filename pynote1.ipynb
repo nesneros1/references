{
 "cells": [
  {
   "attachments": {},
   "cell_type": "markdown",
   "metadata": {},
   "source": [
    "\n",
    "08/24/2022\n",
    "\n",
    "Everything in python is an object opposite of string data\n",
    "    -properties and methods\n",
    "    -dynamically typed -variable = type, dont have to declare the variable\n",
    "    -REPL - read, evaluate, print, loop\n",
    "    -Get into repl with >python3\n",
    "    -chmod +x in order to run python scripts\n",
    "    -uses indentation in order to seperate code lines\n",
    "Setting up .nanorc\n",
    "    set tabsize 4\n",
    "    set tabstospaces\n",
    "    set linenumbers"
   ]
  },
  {
   "cell_type": "code",
   "execution_count": null,
   "metadata": {},
   "outputs": [],
   "source": [
    "#!/usr/bin/env python3 \n",
    "print(\"Hello World\")"
   ]
  },
  {
   "cell_type": "markdown",
   "metadata": {},
   "source": [
    "Python3 Help\n",
    "    docs.python.org/3/\n",
    "    help() on the repl\n",
    "    help('keywords')\n",
    "    ctrl + l on the repl to clear the screen"
   ]
  },
  {
   "cell_type": "code",
   "execution_count": null,
   "metadata": {},
   "outputs": [],
   "source": [
    "print(\"hello there\",'how are you',sep='.', end='\\n howdy there')"
   ]
  },
  {
   "cell_type": "markdown",
   "metadata": {},
   "source": [
    "the seperator is just going to be added in between occurences of objects\n",
    "The end operator is going to print items at the end of the statement"
   ]
  },
  {
   "cell_type": "code",
   "execution_count": null,
   "metadata": {},
   "outputs": [],
   "source": [
    "l = [1,2,3,4,5]\n",
    "print(id(l))\n",
    "print(type(l))\n",
    "print(bool(l))\n",
    "print(bool([]))\n",
    "print(l[0])\n",
    "#print(l[5]) index out of range \n",
    "l[3] = 8\n",
    "print(l)\n",
    "l.append(6)\n",
    "print(l)\n",
    "l.insert(3,4)\n",
    "print(l)\n",
    "print(id(l))\n",
    "del l[4]\n",
    "print(l)"
   ]
  },
  {
   "cell_type": "markdown",
   "metadata": {},
   "source": [
    "Data Types for variables\n",
    "    integer - whole numbers\n",
    "    float - includes decimal places\n",
    "    string - need quoatation marks\n",
    "    tuple - not mutable, like a list but are wrapped with () instead of []\n",
    "    list - wrapped with ',' and [], always start with index value 0\n",
    "    dictionary - also uses {} dict() - associative mapping\n",
    "    can use id() in order to find the memory locations\n",
    "    modifying a , a = a+ b : a is immuatble \n",
    "    Mutable data types = list, set, dict, byte array \n",
    "changing variable type, variable coversion Functions\n",
    "    a = 4, type(a) = integer\n",
    "    a = str(a) a is now a string\n",
    "    a = float(a) \n",
    "Boolean Values\n",
    "    bool(False) false\n",
    "    bool('') false\n",
    "    bool(0) false\n"
   ]
  },
  {
   "cell_type": "code",
   "execution_count": null,
   "metadata": {},
   "outputs": [],
   "source": [
    "#tuple\n",
    "t = (1,2,3,4,5)\n",
    "print(t[3])\n",
    "t[3] = 4\n"
   ]
  },
  {
   "cell_type": "markdown",
   "metadata": {},
   "source": [
    "Tuple\n",
    "    immutable, cannot be appended but can be indexed\n",
    "    cannot use t[3] = 5 - tuples cannot be changed\n",
    "    "
   ]
  },
  {
   "cell_type": "code",
   "execution_count": null,
   "metadata": {},
   "outputs": [],
   "source": [
    "name = 'connor'\n",
    "number = 4\n",
    "ns = '423'\n",
    "print(int(ns))\n"
   ]
  },
  {
   "cell_type": "markdown",
   "metadata": {},
   "source": [
    "Mathematical Operators\n",
    "addition +\n",
    "subtraction -\n",
    "multiplication *\n",
    "division / float division, // integer division\n",
    "exponent **\n",
    "integer division\n",
    "modulus  %\n"
   ]
  },
  {
   "cell_type": "code",
   "execution_count": null,
   "metadata": {},
   "outputs": [],
   "source": [
    "name = 'Jerry'\n",
    "greeting = 'Sir'\n",
    "time = 'noon'\n",
    "output = f'Hello {name}! {greeting}, will you be arriving by {time}?'"
   ]
  },
  {
   "cell_type": "code",
   "execution_count": null,
   "metadata": {},
   "outputs": [],
   "source": [
    "print('PI = {:.2f}'.format(3.31415926))\n"
   ]
  },
  {
   "cell_type": "code",
   "execution_count": null,
   "metadata": {},
   "outputs": [],
   "source": [
    "#splitting based on '-' \n",
    "social = '123-45-6789'.split('-')\n",
    "print(social)\n",
    "'-'.join(social)\n",
    "#one line\n",
    "':'.join('123-45-6789'.split('-'))\n",
    "my_str = 'hello'\n",
    "print(my_str.replace('h','j'))\n",
    "lmystr =  list(my_str)\n",
    "lmystr[0]= 'j' \n",
    "''.join(lmystr)\n"
   ]
  },
  {
   "cell_type": "code",
   "execution_count": null,
   "metadata": {},
   "outputs": [],
   "source": [
    "sentence = 'good for all' \n",
    "sent_list = list(sentence)\n",
    "sent_list[0] = 'f' \n",
    "sent_list[-1] = '?'\n",
    "output = '.'.join(sent_list)\n",
    "print(output)"
   ]
  },
  {
   "cell_type": "code",
   "execution_count": null,
   "metadata": {},
   "outputs": [],
   "source": [
    "email = 'albert@genius.com'\n",
    "lst = email.split('@')\n",
    "lst1 = '.'.join(lst)\n",
    "lst = lst1.split('.')\n",
    "#can also use the replace method \n",
    "lst3 = email.replace('@', '.').split('.')\n",
    "print(lst3)\n",
    "\n",
    "\n"
   ]
  },
  {
   "cell_type": "code",
   "execution_count": null,
   "metadata": {},
   "outputs": [],
   "source": [
    "print(f'hello world','goodbye world' , sep='\\n',end='\\n')"
   ]
  },
  {
   "cell_type": "code",
   "execution_count": null,
   "metadata": {},
   "outputs": [],
   "source": [
    "ui = str(input())\n",
    "ui = ui.replace(' ','+')\n",
    "print(type(ui))"
   ]
  },
  {
   "cell_type": "code",
   "execution_count": null,
   "metadata": {},
   "outputs": [],
   "source": [
    "def numbercheck():\n",
    "    while True:\n",
    "        ui = input('Enter a number between 1 and 100')\n",
    "        try:\n",
    "            if 0 < int(ui) < 101: \n",
    "                return ui\n",
    "        except:\n",
    "            continue\n",
    "numbercheck()"
   ]
  },
  {
   "cell_type": "markdown",
   "metadata": {},
   "source": [
    "This code acts as a check to  see if the input meets the given criteria. If the input type is not an integer it will keep asking for input "
   ]
  },
  {
   "cell_type": "markdown",
   "metadata": {},
   "source": [
    "Flow control in python\n",
    "    if statements - if condition:\n",
    "        need an indent after the colon\n",
    "    "
   ]
  },
  {
   "cell_type": "code",
   "execution_count": null,
   "metadata": {},
   "outputs": [],
   "source": [
    "(0 > 5) ^ True"
   ]
  },
  {
   "cell_type": "markdown",
   "metadata": {},
   "source": [
    "the XOR operator "
   ]
  },
  {
   "cell_type": "code",
   "execution_count": null,
   "metadata": {},
   "outputs": [],
   "source": [
    "grade = input('Enter a grade::')\n",
    "while True:    \n",
    "    if not grade:\n",
    "        print('You supplied nothing')\n",
    "        continue\n",
    "    elif int(grade) > 70:\n",
    "        print('Pog')\n",
    "        break\n"
   ]
  },
  {
   "cell_type": "code",
   "execution_count": null,
   "metadata": {},
   "outputs": [],
   "source": [
    "ui = int(input('enter integer'))\n",
    "if ui == 0:\n",
    "    print('Zero')\n",
    "elif ui < 0 and ui % 2 ==0:\n",
    "    print('Negative Even')\n",
    "elif ui < 0 and ui % 2 != 0:\n",
    "    print('Negative Odd')\n",
    "elif ui > 0 and ui % 2 == 0:\n",
    "    print('Positive Even')\n",
    "else:\n",
    "    print('Positive Odd')"
   ]
  },
  {
   "cell_type": "code",
   "execution_count": null,
   "metadata": {},
   "outputs": [],
   "source": [
    "ui = int(input('Input'))\n",
    "if ui % 3 == 0 and ui % 5 == 0:\n",
    "    print('fizzbuzz')\n",
    "elif ui % 5 == 0:\n",
    "    print('buzz')\n",
    "elif ui % 3 == 0:\n",
    "    print('fizz')\n",
    "else:\n",
    "    print(ui)\n"
   ]
  },
  {
   "cell_type": "code",
   "execution_count": null,
   "metadata": {},
   "outputs": [],
   "source": [
    "#trapezoid generator\n",
    "# need input for 2 bases and a height\n",
    "#top_b = int(input('enter top base'))\n",
    "#bot_b = int(input('enter length of bottom base'))\n",
    "#height = int(input('Enter the height of the trapezoid'))\n",
    "\n",
    "def trap(t, h):\n",
    "    print(' '*int((h*2)/2),'x'*t)\n",
    "    for i in range(1, h):\n",
    "        print(' '*int((h*2-i-1*i)/2) ,'x'*(t+2*i))\n",
    "trap(40,7)"
   ]
  },
  {
   "cell_type": "code",
   "execution_count": null,
   "metadata": {},
   "outputs": [],
   "source": [
    "\n",
    "list1 = [0,456,345,24,56,3,4,6,8,5,3,2,2,1,4,6,8,90,6,5,4,356,45,3,2,4,6,78,9,65,45,1,43,5,27,6,5,8,988,43,65,45,643,2,4,8,90,97,75,14,12,543,43,54,23,12,45]\n",
    "sum = 34\n",
    "def sum_pairs(list1, sum):\n",
    "    dict1 = {\n",
    "    }    \n",
    "    for i in range(0,len(list1)):\n",
    "        for n in range(1+i, len(list1)):\n",
    "            if list1[i] + list1[n] == sum:\n",
    "                dict1[n] = list1[i], list1[n]\n",
    "    try:\n",
    "        final = (dict1[min(dict1.keys())])             \n",
    "        print(dict1)\n",
    "        return final \n",
    "    except:\n",
    "        return None\n",
    "sum_pairs(list1,sum)\n"
   ]
  },
  {
   "cell_type": "code",
   "execution_count": null,
   "metadata": {},
   "outputs": [],
   "source": [
    "def domath(x,y,z):\n",
    "    return (x+y)*z\n",
    "domath(1,2,3)"
   ]
  },
  {
   "cell_type": "code",
   "execution_count": null,
   "metadata": {},
   "outputs": [],
   "source": [
    "list1 = [0,456,345,24,56,3,4,6,8,5,3,2,2,1,4,6,8,90,6,5,4,356,45,3,2,4,6,78,9,65,45,1,43,5,27,6,5,8,988,43,65,45,643,2,4,8,90,97,75,14,12,543,43,54,23,12,45]\n",
    "for i in list1: print(i)\n"
   ]
  },
  {
   "cell_type": "code",
   "execution_count": 38,
   "metadata": {},
   "outputs": [
    {
     "data": {
      "text/plain": [
       "['god', 'dog']"
      ]
     },
     "execution_count": 38,
     "metadata": {},
     "output_type": "execute_result"
    }
   ],
   "source": [
    "def reverseit():\n",
    "    l = []\n",
    "    x = 1\n",
    "    while x == 1:\n",
    "        ui =  input('Enter String')\n",
    "        if ui != '':\n",
    "            ui = list(ui)\n",
    "            ui.reverse()\n",
    "            ui = ''.join(ui)\n",
    "            l.append(ui)\n",
    "        else:\n",
    "            x += 1\n",
    "    #l.reverse()\n",
    "    return l   \n",
    "    \n",
    "reverseit()\n",
    "\n"
   ]
  },
  {
   "cell_type": "code",
   "execution_count": null,
   "metadata": {},
   "outputs": [],
   "source": [
    "def guess_number(n):\n",
    "    while True:\n",
    "        guess = int(input())\n",
    "        if guess > n:\n",
    "            print('too high')\n",
    "        elif guess < n:\n",
    "            print('too low')\n",
    "        else:\n",
    "            print('WIN')\n",
    "            break\n",
    "\n",
    "guess_number(23)\n"
   ]
  },
  {
   "cell_type": "code",
   "execution_count": null,
   "metadata": {},
   "outputs": [],
   "source": [
    "def leetString(s):\n",
    "    l = list(s)\n",
    "    for i in range(0, len(l)):\n",
    "        if i == 0 or i % 2 ==0:\n",
    "            l[i] = l[i].upper() \n",
    "        else:\n",
    "            l[i] = l[i].lower()\n",
    "    return ''.join(l)\n",
    "leetString(\"ABCDEF ghijkl\")"
   ]
  },
  {
   "cell_type": "markdown",
   "metadata": {},
   "source": [
    "Strings are iterable and would work the same as converting it into a list. Iterating over the string before the conversion would save some space"
   ]
  },
  {
   "cell_type": "code",
   "execution_count": null,
   "metadata": {},
   "outputs": [],
   "source": [
    "def evensandodds(first, last):\n",
    "    for i in range(first,last+1):\n",
    "        if i % 2 == 0:\n",
    "            print(i)\n",
    "    for i in range(first,last+1):\n",
    "        if i % 2 != 0:\n",
    "            print(i)\n",
    "evensandodds(1,23)"
   ]
  },
  {
   "cell_type": "code",
   "execution_count": null,
   "metadata": {},
   "outputs": [],
   "source": [
    "def user_io():\n",
    "    l = []\n",
    "    x = 1\n",
    "    while x == 1:\n",
    "        ui =  input('Enter String')\n",
    "        if ui != '':\n",
    "            l.append(ui)\n",
    "        else:\n",
    "            x += 1\n",
    "    return l\n",
    "user_io()"
   ]
  },
  {
   "cell_type": "code",
   "execution_count": 821,
   "metadata": {},
   "outputs": [
    {
     "name": "stdout",
     "output_type": "stream",
     "text": [
      "GOP\n"
     ]
    }
   ],
   "source": [
    "string1 = 'POG'\n",
    "print(string1[::-1])\n"
   ]
  },
  {
   "cell_type": "markdown",
   "metadata": {},
   "source": [
    "Reverse slicing for a reversal of a string, since strings are iterable object"
   ]
  },
  {
   "cell_type": "code",
   "execution_count": 757,
   "metadata": {},
   "outputs": [
    {
     "name": "stdout",
     "output_type": "stream",
     "text": [
      "                 ♦\n",
      "               ♦♦♦♦♦\n",
      "             ♦♦♦♦♦♦♦♦♦\n",
      "           ♦♦♦♦♦♦♦♦♦♦♦♦♦\n",
      "         ♦♦♦♦♦♦♦♦♦♦♦♦♦♦♦♦♦\n",
      "       ♦♦♦♦♦♦♦♦♦♦♦♦♦♦♦♦♦♦♦♦♦\n",
      "     ♦♦♦♦♦♦♦♦♦♦♦♦♦♦♦♦♦♦♦♦♦♦♦♦♦\n",
      "   ♦♦♦♦♦♦♦♦♦♦♦♦♦♦♦♦♦♦♦♦♦♦♦♦♦♦♦♦♦\n",
      " ♦♦♦♦♦♦♦♦♦♦♦♦♦♦♦♦♦♦♦♦♦♦♦♦♦♦♦♦♦♦♦♦♦\n",
      "   ♦♦♦♦♦♦♦♦♦♦♦♦♦♦♦♦♦♦♦♦♦♦♦♦♦♦♦♦♦\n",
      "     ♦♦♦♦♦♦♦♦♦♦♦♦♦♦♦♦♦♦♦♦♦♦♦♦♦\n",
      "       ♦♦♦♦♦♦♦♦♦♦♦♦♦♦♦♦♦♦♦♦♦\n",
      "         ♦♦♦♦♦♦♦♦♦♦♦♦♦♦♦♦♦\n",
      "           ♦♦♦♦♦♦♦♦♦♦♦♦♦\n",
      "             ♦♦♦♦♦♦♦♦♦\n",
      "               ♦♦♦♦♦\n",
      "                 ♦\n"
     ]
    }
   ],
   "source": [
    "#making my little hexagon\n",
    "#printing it with 2 trapzoids, if the point is facing upwards \n",
    "#remaking the trapezoid function\n",
    "def trap(b,h,c):\n",
    "    if h %2 != 0:\n",
    "        h +=1\n",
    "    for i in range(0,h,2):\n",
    "        print(' '*((b if b > h else h)-i), f'{c}'*((b+2*i)))\n",
    "    for i in range(h,-1,-2):\n",
    "        print(' '*((b if b > h else h)-i), f'{c}'*((b+2*i)))\n",
    "trap(1,15,'\\u2666')\n"
   ]
  },
  {
   "cell_type": "markdown",
   "metadata": {},
   "source": [
    "This will display a hexagon by mirroring two trapezoids. It uses the base of the height for the amount of spaces whichever is larger"
   ]
  },
  {
   "cell_type": "code",
   "execution_count": 839,
   "metadata": {},
   "outputs": [
    {
     "name": "stdout",
     "output_type": "stream",
     "text": [
      "                                     \".\"\".\"\".\"\".\"\".\"\".\"\".\"\".\"\".\"\".\"\".\"\".\"\n",
      "                               \".\"\".\"\".\"\".\"\".\"\".\"\".\"\".\"\".\"\".\"\".\"\".\"\".\"\".\"\".\"\".\"\n",
      "                         \".\"\".\"\".\"\".\"\".\"\".\"\".\"\".\"\".\"\".\"\".\"\".\"\".\"\".\"\".\"\".\"\".\"\".\"\".\"\".\"\n",
      "                   \".\"\".\"\".\"\".\"\".\"\".\"\".\"\".\"\".\"\".\"\".\"\".\"\".\"\".\"\".\"\".\"\".\"\".\"\".\"\".\"\".\"\".\"\".\"\".\"\n",
      "             \".\"\".\"\".\"\".\"\".\"\".\"\".\"\".\"\".\"\".\"\".\"\".\"\".\"\".\"\".\"\".\"\".\"\".\"\".\"\".\"\".\"\".\"\".\"\".\"\".\"\".\"\".\"\".\"\n",
      "       \".\"\".\"\".\"\".\"\".\"\".\"\".\"\".\"\".\"\".\"\".\"\".\"\".\"\".\"\".\"\".\"\".\"\".\"\".\"\".\"\".\"\".\"\".\"\".\"\".\"\".\"\".\"\".\"\".\"\".\"\".\"\".\"\n",
      " \".\"\".\"\".\"\".\"\".\"\".\"\".\"\".\"\".\"\".\"\".\"\".\"\".\"\".\"\".\"\".\"\".\"\".\"\".\"\".\"\".\"\".\"\".\"\".\"\".\"\".\"\".\"\".\"\".\"\".\"\".\"\".\"\".\"\".\"\".\"\".\"\n",
      " \".\"\".\"\".\"\".\"\".\"\".\"\".\"\".\"\".\"\".\"\".\"\".\"\".\"\".\"\".\"\".\"\".\"\".\"\".\"\".\"\".\"\".\"\".\"\".\"\".\"\".\"\".\"\".\"\".\"\".\"\".\"\".\"\".\"\".\"\".\"\".\"\n",
      " \".\"\".\"\".\"\".\"\".\"\".\"\".\"\".\"\".\"\".\"\".\"\".\"\".\"\".\"\".\"\".\"\".\"\".\"\".\"\".\"\".\"\".\"\".\"\".\"\".\"\".\"\".\"\".\"\".\"\".\"\".\"\".\"\".\"\".\"\".\"\".\"\n",
      " \".\"\".\"\".\"\".\"\".\"\".\"\".\"\".\"\".\"\".\"\".\"\".\"\".\"\".\"\".\"\".\"\".\"\".\"\".\"\".\"\".\"\".\"\".\"\".\"\".\"\".\"\".\"\".\"\".\"\".\"\".\"\".\"\".\"\".\"\".\"\".\"\n",
      " \".\"\".\"\".\"\".\"\".\"\".\"\".\"\".\"\".\"\".\"\".\"\".\"\".\"\".\"\".\"\".\"\".\"\".\"\".\"\".\"\".\"\".\"\".\"\".\"\".\"\".\"\".\"\".\"\".\"\".\"\".\"\".\"\".\"\".\"\".\"\".\"\n",
      " \".\"\".\"\".\"\".\"\".\"\".\"\".\"\".\"\".\"\".\"\".\"\".\"\".\"\".\"\".\"\".\"\".\"\".\"\".\"\".\"\".\"\".\"\".\"\".\"\".\"\".\"\".\"\".\"\".\"\".\"\".\"\".\"\".\"\".\"\".\"\".\"\n",
      " \".\"\".\"\".\"\".\"\".\"\".\"\".\"\".\"\".\"\".\"\".\"\".\"\".\"\".\"\".\"\".\"\".\"\".\"\".\"\".\"\".\"\".\"\".\"\".\"\".\"\".\"\".\"\".\"\".\"\".\"\".\"\".\"\".\"\".\"\".\"\".\"\n",
      " \".\"\".\"\".\"\".\"\".\"\".\"\".\"\".\"\".\"\".\"\".\"\".\"\".\"\".\"\".\"\".\"\".\"\".\"\".\"\".\"\".\"\".\"\".\"\".\"\".\"\".\"\".\"\".\"\".\"\".\"\".\"\".\"\".\"\".\"\".\"\".\"\n",
      " \".\"\".\"\".\"\".\"\".\"\".\"\".\"\".\"\".\"\".\"\".\"\".\"\".\"\".\"\".\"\".\"\".\"\".\"\".\"\".\"\".\"\".\"\".\"\".\"\".\"\".\"\".\"\".\"\".\"\".\"\".\"\".\"\".\"\".\"\".\"\".\"\n",
      " \".\"\".\"\".\"\".\"\".\"\".\"\".\"\".\"\".\"\".\"\".\"\".\"\".\"\".\"\".\"\".\"\".\"\".\"\".\"\".\"\".\"\".\"\".\"\".\"\".\"\".\"\".\"\".\"\".\"\".\"\".\"\".\"\".\"\".\"\".\"\".\"\n",
      "       \".\"\".\"\".\"\".\"\".\"\".\"\".\"\".\"\".\"\".\"\".\"\".\"\".\"\".\"\".\"\".\"\".\"\".\"\".\"\".\"\".\"\".\"\".\"\".\"\".\"\".\"\".\"\".\"\".\"\".\"\".\"\".\"\n",
      "             \".\"\".\"\".\"\".\"\".\"\".\"\".\"\".\"\".\"\".\"\".\"\".\"\".\"\".\"\".\"\".\"\".\"\".\"\".\"\".\"\".\"\".\"\".\"\".\"\".\"\".\"\".\"\".\"\n",
      "                   \".\"\".\"\".\"\".\"\".\"\".\"\".\"\".\"\".\"\".\"\".\"\".\"\".\"\".\"\".\"\".\"\".\"\".\"\".\"\".\"\".\"\".\"\".\"\".\"\n",
      "                         \".\"\".\"\".\"\".\"\".\"\".\"\".\"\".\"\".\"\".\"\".\"\".\"\".\"\".\"\".\"\".\"\".\"\".\"\".\"\".\"\n",
      "                               \".\"\".\"\".\"\".\"\".\"\".\"\".\"\".\"\".\"\".\"\".\"\".\"\".\"\".\"\".\"\".\"\n",
      "                                     \".\"\".\"\".\"\".\"\".\"\".\"\".\"\".\"\".\"\".\"\".\"\".\"\n"
     ]
    }
   ],
   "source": [
    "#octagon\n",
    "#taking the hexagon function and adding a square in the middle\n",
    "def trap(b,h,c,w):\n",
    "    w = len(c)\n",
    "    if h %2 != 0:\n",
    "        h +=1\n",
    "    for i in range(0,h+1,2):\n",
    "        print(' '*((b if b > h else h)-i)*w, f'{c}'*((b+2*i)))\n",
    "    for i in range(0,int(h)):\n",
    "        print(' '*((b if b > h else h)-h-2)*w,f'{c}'*int((b+2*(h+2))))\n",
    "    for i in range(h,-1,-2):\n",
    "        print(' '*((b if b > h else h)-i)*w, f'{c}'*((b+2*i)))\n",
    "\n",
    "\n",
    "trap(12,10,'\".\"',1)"
   ]
  },
  {
   "cell_type": "markdown",
   "metadata": {},
   "source": [
    "List comprehension with SGT Davis\n",
    "-manipulating lists in one line as opposed to many statements\n",
    "\n"
   ]
  },
  {
   "cell_type": "code",
   "execution_count": 696,
   "metadata": {},
   "outputs": [
    {
     "name": "stdout",
     "output_type": "stream",
     "text": [
      "[0, 2, 4, 6, 8, 10, 12, 14, 16]\n"
     ]
    }
   ],
   "source": [
    "listofnums = []\n",
    "for num in range(0,17):\n",
    "    if num % 2 == 0:\n",
    "        listofnums.append(num)\n",
    "    else:\n",
    "        continue\n",
    "print(listofnums)"
   ]
  },
  {
   "cell_type": "markdown",
   "metadata": {},
   "source": [
    "Naive way to generate a list, iterating over a range to append to the list"
   ]
  },
  {
   "cell_type": "code",
   "execution_count": 702,
   "metadata": {},
   "outputs": [
    {
     "name": "stdout",
     "output_type": "stream",
     "text": [
      "[0, 2, 4, 6, 8, 10, 12, 14, 16]\n"
     ]
    }
   ],
   "source": [
    "newlist = [num for num in range(0,17) if num % 2 == 0]\n",
    "print(newlist)\n"
   ]
  },
  {
   "cell_type": "code",
   "execution_count": 703,
   "metadata": {},
   "outputs": [
    {
     "name": "stdout",
     "output_type": "stream",
     "text": [
      "['A♠', '2♠', '3♠', '4♠', '5♠', '6♠', '7♠', '8♠', '9♠', '10♠', 'J♠', 'Q♠', 'K♠', 'A♥', '2♥', '3♥', '4♥', '5♥', '6♥', '7♥', '8♥', '9♥', '10♥', 'J♥', 'Q♥', 'K♥', 'A♦', '2♦', '3♦', '4♦', '5♦', '6♦', '7♦', '8♦', '9♦', '10♦', 'J♦', 'Q♦', 'K♦', 'A♣', '2♣', '3♣', '4♣', '5♣', '6♣', '7♣', '8♣', '9♣', '10♣', 'J♣', 'Q♣', 'K♣']\n"
     ]
    }
   ],
   "source": [
    "def makedeck():\n",
    "    suits = ['\\u2660', '\\u2665', '\\u2666', '\\u2663']\n",
    "    ranks = ['A', 2,3,4,5,6,7,8,9,10,'J','Q','K']\n",
    "    deck = ['{}{}'.format(rank,suit) for suit in suits for rank in ranks]\n",
    "    print(deck)\n",
    "makedeck()"
   ]
  },
  {
   "cell_type": "code",
   "execution_count": null,
   "metadata": {},
   "outputs": [],
   "source": [
    "ignoreports = [4,35,89]\n",
    "def getPortScanlist(ignorePorts):\n",
    "    return [item for item in range(1,120) if item not in ignorePorts]\n",
    "getPortScanlist(ignoreports)\n"
   ]
  },
  {
   "cell_type": "code",
   "execution_count": 706,
   "metadata": {},
   "outputs": [
    {
     "name": "stdout",
     "output_type": "stream",
     "text": [
      "[11, 155, 23]\n"
     ]
    }
   ],
   "source": [
    "L = [11,155,2,5,7,8,2,3,23]\n",
    "list2 = [x for x in L if x>10]\n",
    "print(list2)"
   ]
  },
  {
   "cell_type": "markdown",
   "metadata": {},
   "source": [
    "have to initialize the variable x before the for statement in order for it to get appended to the new list\n"
   ]
  },
  {
   "cell_type": "code",
   "execution_count": 753,
   "metadata": {},
   "outputs": [
    {
     "name": "stdout",
     "output_type": "stream",
     "text": [
      "Lauren\n",
      "Ayo\n",
      "Kathryn\n",
      "Nick\n",
      "Gladys\n",
      "Adam\n",
      "['Lauren', 'Ayo', 'Kathryn', 'Nick', 'Gladys', 'Adam']\n"
     ]
    }
   ],
   "source": [
    "\n",
    "\n",
    "tester = {'info': [{\"name\": \"Lauren\", 'class standing': 'Junior', 'major': \"Information Science\"},{'name': 'Ayo', 'class standing': \"Bachelor's\", 'major': 'Information Science'}, {'name': 'Kathryn', 'class standing': 'Senior', 'major': 'Sociology'}, {'name': 'Nick', 'class standing': 'Junior', 'major': 'Computer Science'}, {'name': 'Gladys', 'class standing': 'Sophomore', 'major': 'History'}, {'name': 'Adam', 'major': 'Violin Performance', 'class standing': 'Senior'}]}\n",
    "\n",
    "for x in range(0,len(tester['info'])):\n",
    "    print(tester['info'][x]['name'])\n",
    "\n",
    "\n",
    "l = [x['name'] for x in tester['info']]\n",
    "print(l)\n",
    "\n"
   ]
  },
  {
   "cell_type": "markdown",
   "metadata": {},
   "source": [
    "This code accesses items in a list within a dictionary within another dictionary with only one key, 'info'.\n"
   ]
  },
  {
   "cell_type": "code",
   "execution_count": 860,
   "metadata": {},
   "outputs": [],
   "source": [
    "from optparse import make_option\n",
    "\n",
    "\n",
    "def make_tuple(a,b):\n",
    "    t = ()\n",
    "    l = [i for i in range(a,b+1) if i %10 == 0]\n",
    "    l = tuple(l)\n",
    "    t = t + l\n",
    "    return t\n"
   ]
  },
  {
   "cell_type": "code",
   "execution_count": 865,
   "metadata": {},
   "outputs": [
    {
     "name": "stdout",
     "output_type": "stream",
     "text": [
      "('', \"Physics is the universe's operating system\")\n"
     ]
    }
   ],
   "source": [
    "def strings():\n",
    "    s = ''\n",
    "    s1 = 'Physics is the universe\\'s operating system'\n",
    "    l = [s,s1]\n",
    "    l = tuple(l)\n",
    "    return l\n",
    "strings()\n"
   ]
  },
  {
   "cell_type": "code",
   "execution_count": 879,
   "metadata": {},
   "outputs": [
    {
     "data": {
      "text/plain": [
       "([1, 2, 3, 4], [5, 6, 7, 8])"
      ]
     },
     "execution_count": 879,
     "metadata": {},
     "output_type": "execute_result"
    }
   ],
   "source": [
    "def disect(lst):\n",
    "    h = int(len(lst)/2)\n",
    "    lh = lst[0:h]\n",
    "    rh = lst[h:]\n",
    "    t = (lh) \n",
    "    rt =  (rh)\n",
    "    return t,rt\n",
    "disect([1,2,3,4,5,6,7,8])\n",
    "       "
   ]
  },
  {
   "cell_type": "code",
   "execution_count": 885,
   "metadata": {},
   "outputs": [
    {
     "data": {
      "text/plain": [
       "[115,\n",
       " 106,\n",
       " 107,\n",
       " 100,\n",
       " 102,\n",
       " 104,\n",
       " 115,\n",
       " 107,\n",
       " 106,\n",
       " 104,\n",
       " 118,\n",
       " 97,\n",
       " 107,\n",
       " 102,\n",
       " 106,\n",
       " 104,\n",
       " 100,\n",
       " 106,\n",
       " 107,\n",
       " 97,\n",
       " 118]"
      ]
     },
     "execution_count": 885,
     "metadata": {},
     "output_type": "execute_result"
    }
   ],
   "source": [
    "def code_points(strng):\n",
    "    l = []\n",
    "    for i in range(0,len(strng)):\n",
    "        l.append(ord(strng[i]))\n",
    "    return l\n",
    "\n",
    "reverse_string('sjkdfhskjhvakfjhdjkav')"
   ]
  },
  {
   "cell_type": "code",
   "execution_count": 895,
   "metadata": {},
   "outputs": [],
   "source": [
    "def sort_ascii(filepath):\n",
    "    with open(filepath,'r') as f:\n",
    "        listofwords = f.read().split('\\n')\n",
    "        l = sorted(listofwords,key=str.casefold)\n",
    "        return l"
   ]
  },
  {
   "cell_type": "code",
   "execution_count": 43,
   "metadata": {},
   "outputs": [
    {
     "data": {
      "text/plain": [
       "['23456789007654321134567655432',\n",
       " '11111111111111111111111111',\n",
       " '2222222222222222222222222',\n",
       " '23456754324567654324456578',\n",
       " '3435676654345675434354644',\n",
       " '4444444444444444444444444444444444',\n",
       " '23426787654323456789765432',\n",
       " '5555555555555555555555555',\n",
       " 'Here is a561234 long line of text from the file.',\n",
       " '66666666666666666666666666666666',\n",
       " '999999999999999999999999999']"
      ]
     },
     "execution_count": 43,
     "metadata": {},
     "output_type": "execute_result"
    }
   ],
   "source": [
    "def sort_embedded(filepath):\n",
    "    with open(filepath,'r') as f:\n",
    "        d = {}\n",
    "        nl = []\n",
    "        for line in f:\n",
    "            d[line[9:14]] = line.strip()\n",
    "        l = sorted(d)\n",
    "        for i in l:\n",
    "            nl.append(d[i])\n",
    "        return nl\n",
    "sort_embedded('/home/connor.t.sorensen24/test.txt')\n"
   ]
  }
 ],
 "metadata": {
  "kernelspec": {
   "display_name": "Python 3.8.10 64-bit",
   "language": "python",
   "name": "python3"
  },
  "language_info": {
   "codemirror_mode": {
    "name": "ipython",
    "version": 3
   },
   "file_extension": ".py",
   "mimetype": "text/x-python",
   "name": "python",
   "nbconvert_exporter": "python",
   "pygments_lexer": "ipython3",
   "version": "3.10.4"
  },
  "orig_nbformat": 4,
  "vscode": {
   "interpreter": {
    "hash": "916dbcbb3f70747c44a77c7bcd40155683ae19c65e1c03b4aa3499c5328201f1"
   }
  }
 },
 "nbformat": 4,
 "nbformat_minor": 2
}
