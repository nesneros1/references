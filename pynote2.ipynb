{
 "cells": [
  {
   "cell_type": "code",
   "execution_count": 287,
   "metadata": {},
   "outputs": [],
   "source": [
    "def linenums(inpath, outpath):\n",
    "    with open(inpath,'r') as firstfile, open(outpath,'a') as secondfile:\n",
    "        count = 1\n",
    "        for line in firstfile:\n",
    "            secondfile.write(f'{count}: {line}')\n",
    "            count += 1\n",
    "\n",
    "\n",
    "    \n"
   ]
  },
  {
   "cell_type": "code",
   "execution_count": 288,
   "metadata": {},
   "outputs": [],
   "source": [
    "def tough_read(fname):\n",
    "    with open(fname,'r') as fi:\n",
    "        l =[]\n",
    "        for line in fi:\n",
    "            c = chr(int(line, base=2))\n",
    "            l.append(c)\n",
    "    return ''.join(l)\n",
    "            "
   ]
  },
  {
   "cell_type": "code",
   "execution_count": 289,
   "metadata": {},
   "outputs": [],
   "source": [
    "def log_to_file(fname, theme):\n",
    "    with open(fname,'a') as fname:\n",
    "        while True:\n",
    "            ui = input('string')\n",
    "            if ui == '':\n",
    "                break    \n",
    "            else:    \n",
    "                fname.write(f'{theme}:{ui}\\n')\n",
    "\n",
    "            "
   ]
  },
  {
   "cell_type": "code",
   "execution_count": 290,
   "metadata": {},
   "outputs": [],
   "source": [
    "def replace_in_file(in_path, out_path, reps):\n",
    "    with open(in_path,'r') as inpath, open(out_path, 'a') as outpath:\n",
    "        for ogline in inpath:\n",
    "            for i in range(0,len(reps)):\n",
    "                if reps[i][0] in ogline:\n",
    "                    ogline = ogline.replace(reps[i][0], reps[i][1])\n",
    "            outpath.write(ogline)\n",
    "        \n",
    "\n",
    "replace_in_file('inpath.txt', 'outpath.txt', [(\"taken\",\"bacon\"),(\"cat\",\"dog\"),(\"outside\",\"beyond\"),(\"straightaway\",\"forthwith\"),(\"possibly\",\"perchance\")])\n"
   ]
  },
  {
   "cell_type": "code",
   "execution_count": 291,
   "metadata": {},
   "outputs": [
    {
     "data": {
      "text/plain": [
       "'murda'"
      ]
     },
     "execution_count": 291,
     "metadata": {},
     "output_type": "execute_result"
    }
   ],
   "source": [
    "import random\n",
    "def grab(lst):\n",
    "   return lst[random.randint(0,len(lst))]\n",
    "grab(['bobby','schmurda','murda','block'])"
   ]
  },
  {
   "cell_type": "code",
   "execution_count": 292,
   "metadata": {},
   "outputs": [
    {
     "data": {
      "text/plain": [
       "'e03ab32cde5468b1038690f12eff5c3a6a9ecfd043551e238528b71aab79d9cb'"
      ]
     },
     "execution_count": 292,
     "metadata": {},
     "output_type": "execute_result"
    }
   ],
   "source": [
    "import hashlib\n",
    "def get_hash(data):\n",
    "    bytes = data.encode()\n",
    "    sha = hashlib.sha3_256(bytes)\n",
    "    return hashlib.sha3_256.hexdigest(sha)\n",
    "\n",
    "get_hash('Python')\n"
   ]
  },
  {
   "cell_type": "code",
   "execution_count": 293,
   "metadata": {},
   "outputs": [
    {
     "name": "stdout",
     "output_type": "stream",
     "text": [
      "4\n"
     ]
    }
   ],
   "source": [
    "\n",
    "def find_product(a,b):\n",
    "    return a*b\n",
    "if __name__ == '__main__':\n",
    "    a = int(input(' '))\n",
    "    b = int(input(' '))\n",
    "    print(find_product(a,b))\n",
    "\n"
   ]
  },
  {
   "cell_type": "markdown",
   "metadata": {},
   "source": [
    "Sets and Dictionaries \n",
    "    set - unorganized with no duplicates - individuality - very fast a lot faster than iterating over a list \n",
    "        - use {} to initialize, are mutable\\\n",
    "        -can type cast lists to sets\n",
    "        \n"
   ]
  },
  {
   "cell_type": "code",
   "execution_count": 294,
   "metadata": {},
   "outputs": [
    {
     "name": "stdout",
     "output_type": "stream",
     "text": [
      "{0, 1, 2, 3, 4, 5, 100, 37}\n",
      "True\n"
     ]
    }
   ],
   "source": [
    "s = {1,2,3,4,5,5} # wont print out the second 5\n",
    "s.add(0)\n",
    "s.add(100)\n",
    "s.add(37)\n",
    "print(s)\n",
    "print( 1 in s) # will return true\n",
    "l = [i for i in range(0,100)]\n",
    "l = set(l)\n",
    "\n"
   ]
  },
  {
   "cell_type": "code",
   "execution_count": 295,
   "metadata": {},
   "outputs": [
    {
     "name": "stdout",
     "output_type": "stream",
     "text": [
      "{4, 5}\n",
      "{1, 2, 3, 6, 7, 8}\n",
      "{'I': '1', 'V': '5', 'X': '10', 'C': '100'}\n"
     ]
    },
    {
     "data": {
      "text/plain": [
       "dict_items([('I', '1.5'), ('V', '5'), ('X', '10')])"
      ]
     },
     "execution_count": 295,
     "metadata": {},
     "output_type": "execute_result"
    }
   ],
   "source": [
    "s  = {1,2,3,4,5}\n",
    "t = {4,5,6,7,8}\n",
    "v = s.intersection(t)\n",
    "print(v) # overlap\n",
    "# there are also different methods for union and difference\n",
    "p = t.symmetric_difference(s)\n",
    "print(p)\n",
    "\n",
    "romannumeral = {'I':\"1\",\"V\":'5',\"X\":\"10\"}\n",
    "romannumeral['I']\n",
    "romannumeral['C'] ='100'\n",
    "print(romannumeral)\n",
    "del(romannumeral['C'])\n",
    "romannumeral\n",
    "romannumeral['I'] = '1.5'\n",
    "romannumeral\n",
    "romannumeral.keys()\n",
    "romannumeral.items()\n"
   ]
  },
  {
   "cell_type": "code",
   "execution_count": 296,
   "metadata": {},
   "outputs": [
    {
     "data": {
      "text/plain": [
       "{'H': 1, 'e': 2, 'l': 4, 'o': 5}"
      ]
     },
     "execution_count": 296,
     "metadata": {},
     "output_type": "execute_result"
    }
   ],
   "source": [
    "word = 'Hello'\n",
    "d = {}\n",
    "count = 1\n",
    "for i in word:\n",
    "    d[i] = count\n",
    "    count += 1 \n",
    "d"
   ]
  },
  {
   "cell_type": "code",
   "execution_count": 297,
   "metadata": {},
   "outputs": [
    {
     "data": {
      "text/plain": [
       "['Italy', 'USA', 'Brazil', 'China', 'Spain', 'Canada', 'Argentina', 'England']"
      ]
     },
     "execution_count": 297,
     "metadata": {},
     "output_type": "execute_result"
    }
   ],
   "source": [
    "golds = {\"Italy\": 12, \"USA\": 33, \"Brazil\": 15, \"China\": 27, \"Spain\": 19, \"Canada\": 22, \"Argentina\": 8, \"England\": 29}\n",
    "\n",
    "countries = [i for i in golds.keys()]\n",
    "countries"
   ]
  },
  {
   "cell_type": "code",
   "execution_count": 298,
   "metadata": {},
   "outputs": [
    {
     "data": {
      "text/plain": [
       "4"
      ]
     },
     "execution_count": 298,
     "metadata": {},
     "output_type": "execute_result"
    }
   ],
   "source": [
    "\n",
    "medal_count = {'United States': 70, 'Great Britain':38, 'China':45, 'Russia':30, 'Germany':17, 'Italy':22, 'France': 22, 'Japan':26, 'Australia':22, 'South Korea':14, 'Hungary':12, 'Netherlands':10, 'Spain':5, 'New Zealand':8, 'Canada':13, 'Kazakhstan':8, 'Colombia':4, 'Switzerland':5, 'Belgium':4, 'Thailand':4, 'Croatia':3, 'Iran':3, 'Jamaica':3, 'South Africa':7, 'Sweden':6, 'Denmark':7, 'North Korea':6, 'Kenya':4, 'Brazil':7, 'Belarus':4, 'Cuba':5, 'Poland':4, 'Romania':4, 'Slovenia':3, 'Argentina':2, 'Bahrain':2, 'Slovakia':2, 'Vietnam':2, 'Czech Republic':6, 'Uzbekistan':5}\n",
    "belarus = medal_count.values() \n",
    "medal_count['Belarus']"
   ]
  },
  {
   "cell_type": "code",
   "execution_count": 299,
   "metadata": {},
   "outputs": [
    {
     "name": "stdout",
     "output_type": "stream",
     "text": [
      "['I', 'wish', 'I', 'wish', 'with', 'all', 'my', 'heart', 'to', 'fly', 'with', 'dragons', 'in', 'a', 'land', 'apart']\n"
     ]
    }
   ],
   "source": [
    "str1 = \"I wish I wish with all my heart to fly with dragons in a land apart\"\n",
    "str2 = str1.split(' ')\n",
    "print(str2)\n",
    "freq_words = {}\n",
    "for i in str2:\n",
    "    if i in freq_words:\n",
    "        freq_words[i] += 1\n",
    "    else:\n",
    "        freq_words[i] = 1\n"
   ]
  },
  {
   "cell_type": "code",
   "execution_count": 300,
   "metadata": {},
   "outputs": [
    {
     "data": {
      "text/plain": [
       "'tuple'"
      ]
     },
     "execution_count": 300,
     "metadata": {},
     "output_type": "execute_result"
    }
   ],
   "source": [
    "def get_type_str(obj):\n",
    "    objtype = (type(obj))\n",
    "    if objtype == str:\n",
    "        return 'string'\n",
    "    elif objtype == int:\n",
    "        return 'integer'\n",
    "    elif objtype == bool: \n",
    "        return 'boolean'\n",
    "    elif objtype == list: \n",
    "        return 'list'\n",
    "    elif objtype == tuple:\n",
    "        return 'tuple'\n",
    "    elif objtype == float:\n",
    "        return 'float' \n",
    "    else:\n",
    "        return 'unknown'\n",
    "get_type_str(('dog','pog'))"
   ]
  },
  {
   "cell_type": "code",
   "execution_count": 301,
   "metadata": {},
   "outputs": [],
   "source": [
    "def round_to_position(lf):\n",
    "    nlf = []\n",
    "    for i in range(0,len(lf)):\n",
    "        nlf.append(round(lf[i],i))\n",
    "    return nlf"
   ]
  },
  {
   "cell_type": "code",
   "execution_count": 302,
   "metadata": {},
   "outputs": [
    {
     "data": {
      "text/plain": [
       "['the', 'thing', 'i', 'am', 'looking', 'here']"
      ]
     },
     "execution_count": 302,
     "metadata": {},
     "output_type": "execute_result"
    }
   ],
   "source": [
    "def diffwords(fname, words):\n",
    "    final = []\n",
    "    with open(fname,'r') as f1, open(words,'r') as f2:\n",
    "        l = f1.read().replace('[',' ').replace(']',' ').strip().split(' ')\n",
    "        l2 = f2.read().replace('[',' ').replace(']',' ').strip().split(' ')\n",
    "        for i in l:\n",
    "            if i not in l2:\n",
    "                final.append(i)\n",
    "    return final\n",
    "diffwords('text.txt','pog.txt')"
   ]
  },
  {
   "cell_type": "code",
   "execution_count": 303,
   "metadata": {},
   "outputs": [
    {
     "data": {
      "text/plain": [
       "['word', 'is', 'the', 'thing', 'i', 'am', 'for']"
      ]
     },
     "execution_count": 303,
     "metadata": {},
     "output_type": "execute_result"
    }
   ],
   "source": [
    "def diffwords(fname, words):\n",
    "    final = []\n",
    "    with open(fname,'r') as f1:\n",
    "        l = f1.read().replace('\\n',' ').replace(',',' ').replace('[',' ').replace(']',' ').strip().split(' ')\n",
    "        for word in l:\n",
    "            if word not in words:\n",
    "               final.append(word)\n",
    "    return final\n",
    "\n",
    "            \n",
    "        \n",
    "\n",
    "diffwords('text.txt',['pog','here','looking'])"
   ]
  },
  {
   "cell_type": "code",
   "execution_count": 304,
   "metadata": {},
   "outputs": [],
   "source": [
    "\n",
    "def count_words(filepath):  \n",
    "    with open(filepath,'r') as f:\n",
    "        listofwords = f.read().replace('\\n',' ').replace(',',' ').replace('[',' ').replace(']',' ').strip().split(' ')  \n",
    "        freq_words = {}\n",
    "        for i in listofwords:\n",
    "            if i in freq_words:\n",
    "                freq_words[i] += 1\n",
    "            else:\n",
    "                freq_words[i] = 1\n",
    "    return freq_words"
   ]
  },
  {
   "cell_type": "code",
   "execution_count": 308,
   "metadata": {},
   "outputs": [
    {
     "name": "stdout",
     "output_type": "stream",
     "text": [
      "sum is 14\n",
      "557\n"
     ]
    }
   ],
   "source": [
    "def dosum(a,b,c=0,d=0):\n",
    "    print(f'sum is {a+b+c+d}')\n",
    "\n",
    "numbers = [2,3,4,5]\n",
    "manynumbers = [1,2,3,4,5,6,78,6,3,32,332,43,42,0]\n",
    "dosum(*numbers)\n",
    "#unpakcing a list into an input\n",
    "def dosums(*args): #allows us to input any number of inputs\n",
    "    type(args)\n",
    "    sum = 0\n",
    "    for addend in args:\n",
    "        sum += addend\n",
    "    print(sum)\n",
    "dosums(*manynumbers)\n",
    "\n"
   ]
  },
  {
   "cell_type": "code",
   "execution_count": 334,
   "metadata": {},
   "outputs": [
    {
     "name": "stdout",
     "output_type": "stream",
     "text": [
      "[332, 78, 43, 42, 32, 6, 6, 5, 4, 3, 3, 2, 1, 0.5, 0.25, 1e-07]\n",
      "242446.224384\n"
     ]
    }
   ],
   "source": [
    "#multiple keyword arguments - kwargs\n",
    "def mult(*args,**kwargs):\n",
    "    type(args)\n",
    "    sum = 1\n",
    "    for num in args:\n",
    "        sum *= num\n",
    "    print(sum)\n",
    "\n",
    "print(sorted(manynumbers,reverse=True))\n",
    "\n",
    "manynumbers = [.5,.25,.0000001,1,2,3,4,5,6,78,6,3,32,332,43,42]\n",
    "mult(*manynumbers)"
   ]
  },
  {
   "cell_type": "code",
   "execution_count": 350,
   "metadata": {},
   "outputs": [
    {
     "name": "stdout",
     "output_type": "stream",
     "text": [
      "1\n",
      "2\n",
      "3\n",
      "4\n",
      "5\n",
      "6\n",
      "4\n",
      "Cairo=Egypt\n",
      "China=Beijing\n",
      "Rome=Italy\n"
     ]
    }
   ],
   "source": [
    "import re\n",
    "\n",
    "\n",
    "def infinitearguments(*args,**kwargs):\n",
    "    result = []\n",
    "    for i in args:\n",
    "        print(f'{i}')\n",
    "    for keys , values in kwargs.items():\n",
    "        result.append(f'{keys}={values}')\n",
    "    for i in sorted(result):\n",
    "        print(i)\n",
    "        \n",
    "        \n",
    "pog = [1,2,3,4,5,6,4]\n",
    "infinitearguments(*pog,**{'China':\"Beijing\",'Cairo' : \"Egypt\",'Rome' : \"Italy\"})\n",
    "\n",
    "\n"
   ]
  },
  {
   "cell_type": "code",
   "execution_count": 409,
   "metadata": {},
   "outputs": [
    {
     "data": {
      "text/plain": [
       "['',\n",
       " '',\n",
       " ' jhmdhhjdkgfk uk  ujkf ghjkf gkgj f',\n",
       " 'a set is pure if all of its members are sets, all members of its members are sets, and so on. for example, the set containing only the empty set is a nonempty pure set. in modern set theory, it is common to restrict attention to the von neumann universe of pure sets, and many systems of axiomatic set theory are designed to axiomatize the pure sets only. there are many technical advantages to this restriction, and little generality is lost, because essentially all mathematical concepts can be modeled by pure sets. sets in the von neumann universe are organized into a cumulative hierarchy, based on how deeply their members, members of members, etc. are nested. each set in this hierarchy is assigned (by transfinite recursion) an ordinal number {\\\\displaystyle \\\\alpha }\\\\alpha , known as its rank. the rank of a pure set {\\\\displaystyle x}x is defined to be the least ordinal that is strictly greater than the rank of any of its elements. for example',\n",
       " 'fgh jkfkkfghkfghifu f hgfk',\n",
       " 'pogchafsndhgh',\n",
       " 'sfsdyhsgjhfjghdgagfjh krjhsdlf,mdf']"
      ]
     },
     "execution_count": 409,
     "metadata": {},
     "output_type": "execute_result"
    }
   ],
   "source": [
    "\n",
    "\n",
    "def sort_ascii(filepath):\n",
    "    with open(filepath,'r') as f:\n",
    "        listofwords = f.read().split('\\n')\n",
    "        l = []\n",
    "        for i in listofwords:\n",
    "            l.append(i.lower())\n",
    "        l.sort()\n",
    "        return l\n",
    "            \n",
    "\n",
    "sort_ascii('text.txt')\n"
   ]
  },
  {
   "cell_type": "code",
   "execution_count": 390,
   "metadata": {},
   "outputs": [
    {
     "data": {
      "text/plain": [
       "['A set is pure if all of its members are sets, all members of its members are sets, and so on. For example, the set containing only the empty set is a nonempty pure set. In modern set theory, it is common to restrict attention to the von Neumann universe of pure sets, and many systems of axiomatic set theory are designed to axiomatize the pure sets only. There are many technical advantages to this restriction, and little generality is lost, because essentially all mathematical concepts can be modeled by pure sets. Sets in the von Neumann universe are organized into a cumulative hierarchy, based on how deeply their members, members of members, etc. are nested. Each set in this hierarchy is assigned (by transfinite recursion) an ordinal number {\\\\displaystyle \\\\alpha }\\\\alpha , known as its rank. The rank of a pure set {\\\\displaystyle X}X is defined to be the least ordinal that is strictly greater than the rank of any of its elements. For example',\n",
       " ' jhmdhhjdkgfk uk  ujkf ghjkf gkgj f',\n",
       " 'sfsdyhsgjhfjghdgagfjh krjhsdlf,mdf',\n",
       " 'fgh jkfkkfghkfghifu f hgfk',\n",
       " 'pogchafsndhgh',\n",
       " '']"
      ]
     },
     "execution_count": 390,
     "metadata": {},
     "output_type": "execute_result"
    }
   ],
   "source": [
    "def sort_length(filepath):\n",
    "    with open(filepath,'r') as pog:\n",
    "        l =[]\n",
    "        d = {}\n",
    "        for line in pog:\n",
    "            line = line.replace('\\n','')\n",
    "            d[len(line)] = line\n",
    "        for i in sorted(d,reverse=True):\n",
    "            l.append(d[i])\n",
    "        return l\n",
    "sort_length('text.txt')"
   ]
  },
  {
   "cell_type": "code",
   "execution_count": null,
   "metadata": {},
   "outputs": [],
   "source": [
    "def sort_embedded(filepath):\n",
    "    with open(filepath,'r') as f:\n",
    "        d = {}\n",
    "        for line in f:    \n",
    "            line = list(line.replace('\\n',''))\n",
    "            x = (''.join(line[10:15]))\n",
    "            d[x] = ''.join(line)\n",
    "            print(d)\n",
    "            \n",
    "            \n",
    "sort_embedded('text.txt')"
   ]
  }
 ],
 "metadata": {
  "kernelspec": {
   "display_name": "Python 3.8.10 64-bit",
   "language": "python",
   "name": "python3"
  },
  "language_info": {
   "codemirror_mode": {
    "name": "ipython",
    "version": 3
   },
   "file_extension": ".py",
   "mimetype": "text/x-python",
   "name": "python",
   "nbconvert_exporter": "python",
   "pygments_lexer": "ipython3",
   "version": "3.10.4"
  },
  "orig_nbformat": 4,
  "vscode": {
   "interpreter": {
    "hash": "31f2aee4e71d21fbe5cf8b01ff0e069b9275f58929596ceb00d14d90e3e16cd6"
   }
  }
 },
 "nbformat": 4,
 "nbformat_minor": 2
}
